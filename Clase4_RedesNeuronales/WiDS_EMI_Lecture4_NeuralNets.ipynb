{
 "cells": [
  {
   "cell_type": "markdown",
   "metadata": {
    "colab_type": "text",
    "id": "Cv39IrnnNSBo"
   },
   "source": [
    "# Lecture 4 - Redes Neuronales"
   ]
  },
  {
   "cell_type": "markdown",
   "metadata": {
    "colab_type": "text",
    "id": "Vk-7mejPq2bj"
   },
   "source": [
    "*  Link a los slides: http://bit.ly/WIDS_EMI_Lecture4\n",
    "* Repositorio en GitHub: https://github.com/widslapaz/curso_data_science_version_2_emi\n",
    "* Colab notebook: https://colab.research.google.com/drive/1OP2RNde-nQheteZmq0SBkAR9ypBHI6Y5\n",
    "\n"
   ]
  },
  {
   "cell_type": "markdown",
   "metadata": {
    "colab_type": "text",
    "id": "wQZN63bfQKrM"
   },
   "source": [
    "## 1. **Representaciones de datos para redes neuronales**"
   ]
  },
  {
   "cell_type": "code",
   "execution_count": 1,
   "metadata": {
    "colab": {
     "autoexec": {
      "startup": false,
      "wait_interval": 0
     }
    },
    "colab_type": "code",
    "id": "zr09ATVLQGSS"
   },
   "outputs": [
    {
     "name": "stdout",
     "output_type": "stream",
     "text": [
      "Escalar\n",
      "12\n",
      "0\n",
      "()\n",
      "int64\n"
     ]
    }
   ],
   "source": [
    "import numpy as np\n",
    "x = np.array(12)\n",
    "\n",
    "# Escalar - 0D tensor\n",
    "print(\"Escalar\")\n",
    "print(x)\n",
    "print(x.ndim) #number of axes\n",
    "print(x.shape) #shape\n",
    "print(x.dtype) #Data type"
   ]
  },
  {
   "cell_type": "code",
   "execution_count": 2,
   "metadata": {
    "colab": {
     "autoexec": {
      "startup": false,
      "wait_interval": 0
     }
    },
    "colab_type": "code",
    "id": "pLFFNhV-QIZ1"
   },
   "outputs": [
    {
     "name": "stdout",
     "output_type": "stream",
     "text": [
      "[3 4 2]\n",
      "1\n",
      "(3,)\n",
      "int64\n"
     ]
    }
   ],
   "source": [
    "# Vectores - 1D tensor\n",
    "x = np.array([3,4,2])\n",
    "print(x)\n",
    "print(x.ndim)\n",
    "print(x.shape)\n",
    "print(x.dtype)"
   ]
  },
  {
   "cell_type": "code",
   "execution_count": 3,
   "metadata": {
    "colab": {
     "autoexec": {
      "startup": false,
      "wait_interval": 0
     }
    },
    "colab_type": "code",
    "id": "d9bB6Y-oQuJ9"
   },
   "outputs": [
    {
     "name": "stdout",
     "output_type": "stream",
     "text": [
      "[[  2   5   2   5]\n",
      " [  5   4   2   3]\n",
      " [  6  23   4 566]]\n",
      "2\n",
      "(3, 4)\n",
      "int64\n"
     ]
    }
   ],
   "source": [
    "# Matrix - 2D tensor\n",
    "x = np.array([[2,5,2,5], [5,4,2,3],[6,23,4,566]])\n",
    "print(x)\n",
    "print(x.ndim)\n",
    "print(x.shape)\n",
    "print(x.dtype)\n"
   ]
  },
  {
   "cell_type": "code",
   "execution_count": 4,
   "metadata": {
    "colab": {
     "autoexec": {
      "startup": false,
      "wait_interval": 0
     }
    },
    "colab_type": "code",
    "id": "X_Y9u9buRENf"
   },
   "outputs": [
    {
     "name": "stdout",
     "output_type": "stream",
     "text": [
      "[[[  2   5   2   5]\n",
      "  [  5   4   2   3]\n",
      "  [  6   2   4 566]]\n",
      "\n",
      " [[  2   5   2   5]\n",
      "  [  5   4   2   3]\n",
      "  [  6  23   4 566]]\n",
      "\n",
      " [[  2   4   2   5]\n",
      "  [  5   4   2   1]\n",
      "  [  2   3   4   5]]]\n",
      "3\n",
      "(3, 3, 4)\n"
     ]
    }
   ],
   "source": [
    "# 3D tensor\n",
    "x = np.array([\n",
    "              [[2,5,2,5], [5,4,2,3],[6,2,4,566]],\n",
    "              [[2,5,2,5], [5,4,2,3],[6,23,4,566]],\n",
    "              [[2,4,2,5], [5,4,2,1],[2,3,4,5]]\n",
    "    ])\n",
    "print(x)\n",
    "print(x.ndim)\n",
    "print(x.shape)"
   ]
  },
  {
   "cell_type": "markdown",
   "metadata": {
    "colab_type": "text",
    "id": "gugx6egja4XT"
   },
   "source": [
    "###Ejemplos de Tensores del mundo Real\n",
    "\n",
    "\n",
    "\n",
    "*   Vectores - 2D Tensors (samples, features)\n",
    "*   Timeseries - 3D Tensors (samples, timesteps, features) - Time axis is always the second one.\n",
    "*   Imagenes - 4D Tensors (samples, height, width, channels) or (samples, channels, height, width)\n",
    "*   Video - 5D Tensors (samples, frames, height, width, channels) or (samples, frames, channels, height, width)\n",
    "\n"
   ]
  },
  {
   "cell_type": "markdown",
   "metadata": {
    "colab_type": "text",
    "id": "bKiPwhXASbxh"
   },
   "source": [
    "## 2. **Hello World en Redes Neuronales**"
   ]
  },
  {
   "cell_type": "code",
   "execution_count": 5,
   "metadata": {
    "colab": {
     "autoexec": {
      "startup": false,
      "wait_interval": 0
     }
    },
    "colab_type": "code",
    "id": "F2jAUDh0H43s"
   },
   "outputs": [
    {
     "name": "stderr",
     "output_type": "stream",
     "text": [
      "Using TensorFlow backend.\n"
     ]
    }
   ],
   "source": [
    "from keras.datasets import mnist"
   ]
  },
  {
   "cell_type": "code",
   "execution_count": 6,
   "metadata": {
    "colab": {
     "autoexec": {
      "startup": false,
      "wait_interval": 0
     }
    },
    "colab_type": "code",
    "id": "fnoeVzBBH-0N"
   },
   "outputs": [],
   "source": [
    "# Cargamos el dataset\n",
    "(train_images, train_labels), (test_images, test_labels) = mnist.load_data()\n"
   ]
  },
  {
   "cell_type": "code",
   "execution_count": 7,
   "metadata": {
    "colab": {
     "autoexec": {
      "startup": false,
      "wait_interval": 0
     }
    },
    "colab_type": "code",
    "id": "IVzxC5IQIDkk"
   },
   "outputs": [
    {
     "name": "stdout",
     "output_type": "stream",
     "text": [
      "3\n",
      "(60000, 28, 28)\n",
      "60000\n",
      "uint8\n"
     ]
    }
   ],
   "source": [
    "# Revisemos los tensores en train\n",
    "print(train_images.ndim)\n",
    "print(train_images.shape)\n",
    "print(len(train_labels))\n",
    "print(train_labels.dtype)\n"
   ]
  },
  {
   "cell_type": "code",
   "execution_count": 8,
   "metadata": {
    "colab": {
     "autoexec": {
      "startup": false,
      "wait_interval": 0
     }
    },
    "colab_type": "code",
    "id": "QmpgT0ymIMSR"
   },
   "outputs": [
    {
     "name": "stdout",
     "output_type": "stream",
     "text": [
      "3\n",
      "(10000, 28, 28)\n",
      "10000\n",
      "uint8\n"
     ]
    }
   ],
   "source": [
    "# Revisemos los tensores en test\n",
    "print(test_images.ndim)\n",
    "print(test_images.shape)\n",
    "print(len(test_labels))\n",
    "print(test_images.dtype)"
   ]
  },
  {
   "cell_type": "code",
   "execution_count": 9,
   "metadata": {
    "colab": {
     "autoexec": {
      "startup": false,
      "wait_interval": 0
     }
    },
    "colab_type": "code",
    "id": "Q8ETJvpEILxL"
   },
   "outputs": [
    {
     "data": {
      "text/plain": [
       "array([7, 2, 1, ..., 4, 5, 6], dtype=uint8)"
      ]
     },
     "execution_count": 9,
     "metadata": {},
     "output_type": "execute_result"
    }
   ],
   "source": [
    "test_labels"
   ]
  },
  {
   "cell_type": "markdown",
   "metadata": {
    "colab_type": "text",
    "id": "o5LaoK6zUIL5"
   },
   "source": [
    "###  **Visualizando los ejemplos del dataset**"
   ]
  },
  {
   "cell_type": "code",
   "execution_count": 10,
   "metadata": {
    "colab": {
     "autoexec": {
      "startup": false,
      "wait_interval": 0
     }
    },
    "colab_type": "code",
    "id": "O5pdm-waUEVt"
   },
   "outputs": [],
   "source": [
    "import matplotlib.pyplot as plt"
   ]
  },
  {
   "cell_type": "code",
   "execution_count": 11,
   "metadata": {
    "cellView": "both",
    "colab": {
     "autoexec": {
      "startup": false,
      "wait_interval": 0
     }
    },
    "colab_type": "code",
    "id": "28-SjXYtX3kM"
   },
   "outputs": [],
   "source": [
    "#@title Nro de Ejemplo a visualizar { run: \"auto\", vertical-output: true }\n",
    "image_number = 87 #@param {type:\"integer\"}\n"
   ]
  },
  {
   "cell_type": "code",
   "execution_count": 12,
   "metadata": {
    "colab": {
     "autoexec": {
      "startup": false,
      "wait_interval": 0
     }
    },
    "colab_type": "code",
    "id": "nkMIOKXnX7Yo"
   },
   "outputs": [
    {
     "data": {
      "text/plain": [
       "9"
      ]
     },
     "execution_count": 12,
     "metadata": {},
     "output_type": "execute_result"
    }
   ],
   "source": [
    "train_labels[image_number]"
   ]
  },
  {
   "cell_type": "code",
   "execution_count": 13,
   "metadata": {
    "colab": {
     "autoexec": {
      "startup": false,
      "wait_interval": 0
     }
    },
    "colab_type": "code",
    "id": "ZvDTt3SIIJQc"
   },
   "outputs": [
    {
     "data": {
      "image/png": "[encoded data removed]",
      "text/plain": [
       "<Figure size 432x288 with 1 Axes>"
      ]
     },
     "metadata": {},
     "output_type": "display_data"
    }
   ],
   "source": [
    "# Tensor Slicing = Seleccionar elementos específicos sobre el axis\n",
    "\n",
    "digit = train_images[image_number]\n",
    "\n",
    "plt.imshow(digit, cmap=plt.cm.binary)\n",
    "plt.show()"
   ]
  },
  {
   "cell_type": "code",
   "execution_count": 14,
   "metadata": {
    "colab": {
     "autoexec": {
      "startup": false,
      "wait_interval": 0
     }
    },
    "colab_type": "code",
    "id": "Vp-i7zuVXOHp"
   },
   "outputs": [
    {
     "data": {
      "image/png": "[encoded data removed]",
      "text/plain": [
       "<Figure size 432x288 with 1 Axes>"
      ]
     },
     "metadata": {},
     "output_type": "display_data"
    }
   ],
   "source": [
    "# Tensor Slicing = Seleccionar elementos específicos sobre el axis\n",
    "\n",
    "digit = train_images[image_number, 10: , 10:]\n",
    "\n",
    "plt.imshow(digit, cmap=plt.cm.binary)\n",
    "plt.show()"
   ]
  },
  {
   "cell_type": "code",
   "execution_count": 15,
   "metadata": {
    "colab": {
     "autoexec": {
      "startup": false,
      "wait_interval": 0
     }
    },
    "colab_type": "code",
    "id": "rrhWIXsUXjo-"
   },
   "outputs": [
    {
     "data": {
      "image/png": "[encoded data removed]",
      "text/plain": [
       "<Figure size 432x288 with 1 Axes>"
      ]
     },
     "metadata": {},
     "output_type": "display_data"
    }
   ],
   "source": [
    "# Tensor Slicing = Seleccionar elementos específicos sobre el axis\n",
    "\n",
    "digit = train_images[image_number, 7:-7 , 7:-7]\n",
    "\n",
    "plt.imshow(digit, cmap=plt.cm.binary)\n",
    "plt.show()"
   ]
  },
  {
   "cell_type": "markdown",
   "metadata": {
    "colab_type": "text",
    "id": "51rVXJuYZT3Y"
   },
   "source": [
    "### **Data Batches**"
   ]
  },
  {
   "cell_type": "code",
   "execution_count": 16,
   "metadata": {
    "colab": {
     "autoexec": {
      "startup": false,
      "wait_interval": 0
     }
    },
    "colab_type": "code",
    "id": "HHn1tqlzUREt"
   },
   "outputs": [
    {
     "name": "stdout",
     "output_type": "stream",
     "text": [
      "(128, 28, 28)\n"
     ]
    }
   ],
   "source": [
    "# Deep Learning no procesa todos los datos de golpe\n",
    "# Mas bien, se dividen los datos en trozos o batches\n",
    "# Las divisiones se realizan sobre el primer axis (ndim)\n",
    "\n",
    "batch = train_images[:128]\n",
    "print(batch.shape)"
   ]
  },
  {
   "cell_type": "code",
   "execution_count": 17,
   "metadata": {
    "colab": {
     "autoexec": {
      "startup": false,
      "wait_interval": 0
     }
    },
    "colab_type": "code",
    "id": "l9oEHeWkZ3ar"
   },
   "outputs": [],
   "source": [
    "# El siguiente batch\n",
    "batch = train_images[128:256]"
   ]
  },
  {
   "cell_type": "code",
   "execution_count": 18,
   "metadata": {
    "colab": {
     "autoexec": {
      "startup": false,
      "wait_interval": 0
     }
    },
    "colab_type": "code",
    "id": "fSNVOY3OaDIc"
   },
   "outputs": [
    {
     "name": "stdout",
     "output_type": "stream",
     "text": [
      "(128, 28, 28)\n"
     ]
    }
   ],
   "source": [
    "# Batch N\n",
    "n = 5\n",
    "batch_size = 128\n",
    "batch = train_images[batch_size * n: batch_size * (n + 1)]\n",
    "print(batch.shape)"
   ]
  },
  {
   "cell_type": "markdown",
   "metadata": {
    "colab_type": "text",
    "id": "XN7_ClueIU1P"
   },
   "source": [
    "###**Arquitectura inicial de Red Neuronal**"
   ]
  },
  {
   "cell_type": "code",
   "execution_count": 19,
   "metadata": {
    "colab": {
     "autoexec": {
      "startup": false,
      "wait_interval": 0
     }
    },
    "colab_type": "code",
    "id": "eJqobD7KIZyg"
   },
   "outputs": [],
   "source": [
    "from keras import models\n",
    "from keras import layers\n",
    "network = models.Sequential()\n",
    "network.add(layers.Dense(512, activation='relu', input_shape=(28 * 28,)))\n",
    "network.add(layers.Dense(10, activation='softmax'))\n"
   ]
  },
  {
   "cell_type": "markdown",
   "metadata": {
    "colab_type": "text",
    "id": "Wb-FoB1nImA7"
   },
   "source": [
    "Vamos a compilar el modelo"
   ]
  },
  {
   "cell_type": "markdown",
   "metadata": {
    "colab_type": "text",
    "id": "TXx5AdgqIzh0"
   },
   "source": [
    " A loss function—How the network will be able to measure its performance on the training data, and thus how it will be able to steer itself in the right direction.  Nos permite medir los errore generados\n",
    "\n",
    " An optimizer—The mechanism through which the network will update itself based on the data it sees and its loss function.\n",
    "\n",
    " Metrics to monitor during training and testing—Here, we’ll only care about accu- racy (the fraction of the images that were correctly classified)."
   ]
  },
  {
   "cell_type": "code",
   "execution_count": 20,
   "metadata": {
    "colab": {
     "autoexec": {
      "startup": false,
      "wait_interval": 0
     }
    },
    "colab_type": "code",
    "id": "ImteLzZzIdEH"
   },
   "outputs": [],
   "source": [
    "network.compile(optimizer='adam',\n",
    "                loss='categorical_crossentropy',\n",
    "                metrics=['accuracy'])\n"
   ]
  },
  {
   "cell_type": "code",
   "execution_count": 21,
   "metadata": {
    "colab": {
     "autoexec": {
      "startup": false,
      "wait_interval": 0
     }
    },
    "colab_type": "code",
    "id": "TYEWX1ScpCx_"
   },
   "outputs": [
    {
     "name": "stdout",
     "output_type": "stream",
     "text": [
      "_________________________________________________________________\n",
      "Layer (type)                 Output Shape              Param #   \n",
      "=================================================================\n",
      "dense_1 (Dense)              (None, 512)               401920    \n",
      "_________________________________________________________________\n",
      "dense_2 (Dense)              (None, 10)                5130      \n",
      "=================================================================\n",
      "Total params: 407,050\n",
      "Trainable params: 407,050\n",
      "Non-trainable params: 0\n",
      "_________________________________________________________________\n"
     ]
    }
   ],
   "source": [
    "network.summary()"
   ]
  },
  {
   "cell_type": "code",
   "execution_count": 22,
   "metadata": {
    "colab": {
     "autoexec": {
      "startup": false,
      "wait_interval": 0
     }
    },
    "colab_type": "code",
    "id": "Uv3aWAeSIjFK"
   },
   "outputs": [],
   "source": [
    "train_images = train_images.reshape((60000, 28 * 28))\n",
    "train_images = train_images.astype('float32') / 255\n",
    "test_images = test_images.reshape((10000, 28 * 28))\n",
    "test_images = test_images.astype('float32') / 255\n"
   ]
  },
  {
   "cell_type": "code",
   "execution_count": 23,
   "metadata": {
    "colab": {
     "autoexec": {
      "startup": false,
      "wait_interval": 0
     }
    },
    "colab_type": "code",
    "id": "tgQkUHGCLz2R"
   },
   "outputs": [],
   "source": [
    "from keras.utils import to_categorical\n",
    "test_labels_bk = test_labels.copy()\n",
    "train_labels = to_categorical(train_labels)\n",
    "test_labels = to_categorical(test_labels)\n"
   ]
  },
  {
   "cell_type": "code",
   "execution_count": 24,
   "metadata": {
    "colab": {
     "autoexec": {
      "startup": false,
      "wait_interval": 0
     }
    },
    "colab_type": "code",
    "id": "FkPcusUaL3k_"
   },
   "outputs": [
    {
     "name": "stdout",
     "output_type": "stream",
     "text": [
      "Epoch 1/5\n",
      "60000/60000 [==============================] - 5s 83us/step - loss: 0.2650 - acc: 0.9251\n",
      "Epoch 2/5\n",
      "60000/60000 [==============================] - 5s 78us/step - loss: 0.1067 - acc: 0.9689\n",
      "Epoch 3/5\n",
      "60000/60000 [==============================] - 5s 85us/step - loss: 0.0702 - acc: 0.9791\n",
      "Epoch 4/5\n",
      "60000/60000 [==============================] - 5s 79us/step - loss: 0.0503 - acc: 0.9848\n",
      "Epoch 5/5\n",
      "60000/60000 [==============================] - 5s 91us/step - loss: 0.0363 - acc: 0.9892\n"
     ]
    },
    {
     "data": {
      "text/plain": [
       "<keras.callbacks.History at 0x7f904d05e1d0>"
      ]
     },
     "execution_count": 24,
     "metadata": {},
     "output_type": "execute_result"
    }
   ],
   "source": [
    "network.fit(train_images, train_labels, epochs=5, batch_size=128)"
   ]
  },
  {
   "cell_type": "markdown",
   "metadata": {
    "colab_type": "text",
    "id": "KxL2G-dQMdAR"
   },
   "source": [
    "Two quantities are displayed during training: the loss of the network over the training data, and the accuracy of the network over the training data"
   ]
  },
  {
   "cell_type": "code",
   "execution_count": 25,
   "metadata": {
    "colab": {
     "autoexec": {
      "startup": false,
      "wait_interval": 0
     }
    },
    "colab_type": "code",
    "id": "I7QMH05OMU-h"
   },
   "outputs": [
    {
     "name": "stdout",
     "output_type": "stream",
     "text": [
      "10000/10000 [==============================] - 1s 52us/step\n",
      "test_acc: 0.9763\n"
     ]
    }
   ],
   "source": [
    "test_loss, test_acc = network.evaluate(test_images, test_labels)\n",
    "print('test_acc:', test_acc)"
   ]
  },
  {
   "cell_type": "code",
   "execution_count": 26,
   "metadata": {
    "colab": {
     "autoexec": {
      "startup": false,
      "wait_interval": 0
     }
    },
    "colab_type": "code",
    "id": "C0TvLBz4MmZw"
   },
   "outputs": [
    {
     "name": "stdout",
     "output_type": "stream",
     "text": [
      "\n",
      "Matriz de confusion\n",
      "[[ 972    0    1    2    1    1    1    1    1    0]\n",
      " [   0 1120    3    1    0    1    2    1    7    0]\n",
      " [   5    0 1005   10    2    0    1    4    5    0]\n",
      " [   0    0    0  999    0    1    0    3    2    5]\n",
      " [   0    0    5    0  956    0    3    2    1   15]\n",
      " [   3    0    0   27    2  850    4    1    4    1]\n",
      " [   4    2    2    2    7    4  933    0    4    0]\n",
      " [   1    3   10    3    0    0    0 1006    1    4]\n",
      " [   4    0    4   17    4    2    1    2  938    2]\n",
      " [   2    2    0    8    6    2    0    4    1  984]]\n",
      "\n",
      "Accuracy Score\n",
      "0.9763\n"
     ]
    }
   ],
   "source": [
    "from sklearn.metrics import confusion_matrix, classification_report, accuracy_score, roc_auc_score, f1_score\n",
    "predictions = network.predict_classes(test_images)\n",
    "pred_probs = network.predict_proba(test_images)\n",
    "\n",
    "\n",
    "print(\"\\nMatriz de confusion\")\n",
    "print(confusion_matrix(test_labels_bk, predictions, labels=range(0,10)))\n",
    "print(\"\\nAccuracy Score\")\n",
    "print(accuracy_score(test_labels_bk, predictions))"
   ]
  },
  {
   "cell_type": "markdown",
   "metadata": {
    "colab_type": "text",
    "id": "IzuMi5Hmiuo5"
   },
   "source": [
    "## Ejercicios:\n",
    "\n",
    "Realiza las siguientes pruebas y analiza los resultados:\n",
    "\n",
    "1.   Adiciona nuevas hidden layers a la red neuronal. \n",
    "2.   Prueba con distintos números de neuronas en las nuevas capas que adiciones\n",
    "3.   Cambia el algoritmo de optimización a ADAM\n",
    "4.   Incrementa el número de epochs\n",
    "\n",
    "Después de cada cambio, ejecuta nuevamente todas las celdas de la sección 2\n",
    "\n"
   ]
  },
  {
   "cell_type": "code",
   "execution_count": null,
   "metadata": {
    "colab": {
     "autoexec": {
      "startup": false,
      "wait_interval": 0
     }
    },
    "colab_type": "code",
    "id": "Fw04-JgFiuJq"
   },
   "outputs": [],
   "source": []
  },
  {
   "cell_type": "code",
   "execution_count": null,
   "metadata": {
    "colab": {
     "autoexec": {
      "startup": false,
      "wait_interval": 0
     }
    },
    "colab_type": "code",
    "id": "FT0pPnkcORqJ"
   },
   "outputs": [],
   "source": []
  },
  {
   "cell_type": "code",
   "execution_count": null,
   "metadata": {
    "colab": {
     "autoexec": {
      "startup": false,
      "wait_interval": 0
     }
    },
    "colab_type": "code",
    "id": "wXA-CsT2RiPX"
   },
   "outputs": [],
   "source": []
  }
 ],
 "metadata": {
  "colab": {
   "collapsed_sections": [],
   "default_view": {},
   "name": "WiDS_EMI_Lecture4_NeuralNets",
   "provenance": [
    {
     "file_id": "https://github.com/nathalyAlarconT/Lecture__NeuralNets_DL/blob/master/DeepLearning.ipynb",
     "timestamp": 1530942431520
    }
   ],
   "toc_visible": true,
   "version": "0.3.2",
   "views": {}
  },
  "kernelspec": {
   "display_name": "Python 3",
   "language": "python",
   "name": "python3"
  },
  "language_info": {
   "codemirror_mode": {
    "name": "ipython",
    "version": 3
   },
   "file_extension": ".py",
   "mimetype": "text/x-python",
   "name": "python",
   "nbconvert_exporter": "python",
   "pygments_lexer": "ipython3",
   "version": "3.6.4"
  }
 },
 "nbformat": 4,
 "nbformat_minor": 1
}
