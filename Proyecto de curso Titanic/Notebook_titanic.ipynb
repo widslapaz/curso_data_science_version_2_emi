{
 "cells": [
  {
   "cell_type": "markdown",
   "metadata": {},
   "source": [
    "<h1>Solución Titanic</h1>\n",
    "<h2>Introducción</h2>\n",
    "<p>En este notebook se resuelve el problema del <a href=\"https://www.kaggle.com/c/titanic\">Titanic</a>. En específicio, se desarrollarán las siguientes etapas:</p>\n",
    "\n",
    "<ol>\n",
    "<li><strong>Análisis de datos</strong></li>\n",
    "    <ol>\n",
    "        <li>Preguntas</li>\n",
    "        <li>Data wrangling</li>\n",
    "        <li>Exploratory data analysis</li>\n",
    "        <li>Conclusiones</li>\n",
    "    </ol>\n",
    "<li><strong>Clasificación con Machine Learning</strong></li>\n",
    "    <ol>\n",
    "        <li>Pre-procesamiento de variables</li>\n",
    "        <li>Train, validation y test sets</li>\n",
    "        <li>3 modelos para clasificación</li>\n",
    "        <li>Entrenamiento</li>\n",
    "        <li>Diagnóstico</li>\n",
    "        <li>Resultados</li>\n",
    "    </ol>\n",
    "</ol>"
   ]
  },
  {
   "cell_type": "code",
   "execution_count": null,
   "metadata": {
    "collapsed": true
   },
   "outputs": [],
   "source": [
    "# Manipulacion de datos y tensores.\n",
    "import numpy as np\n",
    "import pandas as pd\n",
    "# Aprendizaje automatico.\n",
    "import sklearn\n",
    "from sklearn.model_selection import train_test_split\n",
    "# Visualizaciones.\n",
    "import matplotlib.pyplot as plt\n",
    "from matplotlib import style\n",
    "style.use(\"ggplot\")\n",
    "import seaborn as sns\n",
    "# Retina command that makes things look good\n",
    "%config InlineBackend.figure_format = 'retina'"
   ]
  },
  {
   "cell_type": "markdown",
   "metadata": {},
   "source": [
    "<h2>1. Análisis de datos</h2>"
   ]
  },
  {
   "cell_type": "markdown",
   "metadata": {},
   "source": [
    "<p style=\"text-justify;\">Antes de aplicar <strong>Inteligencia Artificial</strong> analizaremos los datos siguiendo el proceso descrito previamente. En la primera fase, leeremos los datos y los cargaremos a una estructura de datos. Seguidamente, limpiaremos los datos utilizando estadística descriptiva para encontrar outliers y missing values. Despues, aplicaremos análisis de datos uni-variables y multi-variables con el fin de responder preguntas sobre el dataset. Finalmente, presentaremos conclusiones sobre nuestras preguntas.</p>"
   ]
  },
  {
   "cell_type": "markdown",
   "metadata": {},
   "source": [
    "<h3>A. Preguntas</h3>\n",
    "<p>En esta sección:</p>\n",
    "<ol>\n",
    "    <li>Propondemos preguntas sobre el dataset del Titanic.</li>\n",
    "</ol>"
   ]
  },
  {
   "cell_type": "markdown",
   "metadata": {},
   "source": [
    "<h4></h4>\n",
    "<ol>\n",
    "    <li>Cual es el sexo que tuvo mayor opcion de sobrevivir?.</li>\n",
    "    <li>Cual es el rango de edad que tuvo mayor opcion de sobrevivir?</li>\n",
    "    <li>Que clase social tenia mas oportunidad de sobrevivir?</li>\n",
    "</ol>"
   ]
  },
  {
   "cell_type": "markdown",
   "metadata": {},
   "source": [
    "<h3>B. Data wrangling</h3>\n",
    "<p>En esta sección:</p>\n",
    "<ol>\n",
    "    <li>Cargaremos los datos a una estructura de datos</li>\n",
    "    <li>Exploraremos cada variable del dataset</li>\n",
    "    <li>Limpiaremos las variables del dataset</li>\n",
    "</ol>"
   ]
  },
  {
   "cell_type": "code",
   "execution_count": null,
   "metadata": {
    "collapsed": true
   },
   "outputs": [],
   "source": [
    "# Cargar datos\n",
    "df_original = pd.read_csv(\"data/train.csv\")"
   ]
  },
  {
   "cell_type": "code",
   "execution_count": null,
   "metadata": {},
   "outputs": [],
   "source": [
    "# Leer datos\n",
    "df_original.head(3)"
   ]
  },
  {
   "cell_type": "markdown",
   "metadata": {},
   "source": [
    "<p>Las features PassengerId, Name, Cabin, Embarked, Parch no tienen relacion con la variable de salida. Es decir, el id de identificacion de cada pasajero no decidira la muerte de un pasajero. El nombre de un pasajero tampoco interferira con su posibilidad de supervivencia. Asimismo, el numero de cabina o el puerto de abordo al barco tampoco afectan la supervivencia del pasajero. Por tanto eliminamos estas variables.</p>"
   ]
  },
  {
   "cell_type": "code",
   "execution_count": null,
   "metadata": {},
   "outputs": [],
   "source": [
    "df_dropped_features = df_original.drop([\"PassengerId\", \"Name\", \"Cabin\", \"Embarked\", \"Parch\", \"Ticket\"], axis = 1)\n",
    "df_dropped_features.head()"
   ]
  },
  {
   "cell_type": "markdown",
   "metadata": {},
   "source": [
    "<p>Antes de seguir con el analisis de datos, debemos transformar las features con valores no numericos. Estas features son Sex y Ticket. Veamos las siguientes celdas para entender la situacion.</p>\n",
    "\n",
    "<h4>Feature Sex</h4>"
   ]
  },
  {
   "cell_type": "code",
   "execution_count": null,
   "metadata": {},
   "outputs": [],
   "source": [
    "# Veamos las clases unicas de la variable Sex.\n",
    "print(\"Clases unicas: \", df_dropped_features[\"Sex\"].unique())\n",
    "print(\"Cantidad de variables unicas: \", len(df_dropped_features[\"Sex\"].unique()))"
   ]
  },
  {
   "cell_type": "markdown",
   "metadata": {},
   "source": [
    "<p>Como se puede observar, la variable de sexo esta compuesta por dos categorias o clases: male y female. Asimismo, la variable ticket esta compuesta por 681 categorias (el tipo de ticket nos sirve porque tiene correlacion con la la clase social a la cual el pasajero pertenece).</p>\n",
    "<h4>Categorizacion de feature sex</h4>"
   ]
  },
  {
   "cell_type": "code",
   "execution_count": null,
   "metadata": {},
   "outputs": [],
   "source": [
    "# Categorizamos las features con el metodo get_dummies\n",
    "df_categorized = pd.get_dummies(df_dropped_features)\n",
    "df_categorized.head()"
   ]
  },
  {
   "cell_type": "code",
   "execution_count": null,
   "metadata": {},
   "outputs": [],
   "source": [
    "# Cuantas features tenemos?\n",
    "print(\"Features:\", [i for i in df_categorized.columns], \"\\n\")\n",
    "print(\"Cantidad total de features: \", len(df_categorized.columns))"
   ]
  },
  {
   "cell_type": "markdown",
   "metadata": {},
   "source": [
    "<p>Utilizemos variables descriptivas para analizar los datos:</p>"
   ]
  },
  {
   "cell_type": "code",
   "execution_count": null,
   "metadata": {},
   "outputs": [],
   "source": [
    "df_categorized.describe()"
   ]
  },
  {
   "cell_type": "markdown",
   "metadata": {},
   "source": [
    "<h3>Conclusiones sobre la tabla</h3>\n",
    "<o>\n",
    "    <li>Con respecto a la cantidad de datos por feature podemos concluir que la feature Age tiene una menor cantidad de datos. Por tanto, probablemente hay valores nan.</li>\n",
    "</o>"
   ]
  },
  {
   "cell_type": "markdown",
   "metadata": {},
   "source": [
    "<h2>Limpieza de datos</h2>"
   ]
  },
  {
   "cell_type": "markdown",
   "metadata": {},
   "source": [
    "<h3>Ejercicio</h3>\n",
    "<p>Debemos limpiar los valores nan en la feature edad de nuestros datos. Tenemos varias opciones:</p>\n",
    "<ol>\n",
    "    <li><strong>OPCION 1</strong> Rellenar los valores nan con la <strong>media</strong> de las edades.</li>\n",
    "    <li><strong>OPCION 2</strong> Rellenar los valores nan con la <strong>mediana</strong> de las edades.</li>\n",
    "    <li><strong>OPCION 3</strong> Eliminar las filas con los valores nan.</li>\n",
    "</ol>\n",
    "<p>Por el momento tu trabajo es escoger una de las estrategias. Mas adelante evaluaras tus resultados al aplicar un algoritmo de machine learning para predecir el test set.</p>"
   ]
  },
  {
   "cell_type": "code",
   "execution_count": null,
   "metadata": {
    "collapsed": true
   },
   "outputs": [],
   "source": [
    "# ESCOJE UNA OPCION.\n",
    "opcion = # LLena la variable con uno de los siguientes numeros: 1, 2, 3\n",
    "\n",
    "# Assertions.\n",
    "assert (type(opcion) == int), \"La variable opcion debe ser un entero.\"\n",
    "assert ((opcion in [1,2,3]) == True), \"opcion debe tener un valor entre [1, 2, 3]\"\n",
    "\n",
    "# Local variables\n",
    "df_cleaned = df_categorized.copy()\n",
    "\n",
    "# Opciones de limpieza para valores nan.\n",
    "if (opcion == 1):\n",
    "    media_edad = df_categorized[\"Age\"].mean()\n",
    "    df_cleaned[\"Age\"] = df_categorized[\"Age\"].fillna(media_edad)\n",
    "elif (opcion == 2):\n",
    "    mediana_edad = df_categorized[\"Age\"].median()\n",
    "    df_cleaned[\"Age\"] = df_categorized[\"Age\"].fillna(mediana_edad)\n",
    "elif (opcion == 3):\n",
    "    df_cleaned[\"Age\"] = df_categorized.dropna(axis = 1)"
   ]
  },
  {
   "cell_type": "markdown",
   "metadata": {},
   "source": [
    "<h3>C. Exploratory data analysis</h3>\n",
    "<p>En esta sección:</p>\n",
    "<ol>\n",
    "    <li>Responderemos a las preguntas formuladas previamente</li>\n",
    "</ol>"
   ]
  },
  {
   "cell_type": "markdown",
   "metadata": {},
   "source": [
    "<h4>Cual es el sexo que tuvo mayor opcion de sobrevivir?</h4>\n",
    "<p>La siguiente celda tiene codigo que te ayudara a graficar mas sencillamente.</p>"
   ]
  },
  {
   "cell_type": "code",
   "execution_count": null,
   "metadata": {
    "collapsed": true
   },
   "outputs": [],
   "source": [
    "def plot_with_bar(values = None, title = None, xticks = None):\n",
    "    # Assertions\n",
    "    if (values == None):\n",
    "        raise ValueError(\"Values no puede estar vacio.\")\n",
    "    if (type(values) == list) or (type(values) == tuple):\n",
    "        pass\n",
    "    else:\n",
    "        raise TypeError(\"Values debe ser una lista o tupla.\")\n",
    "    ind = [i for i in range(len(values))]\n",
    "    plt.bar(ind, values)\n",
    "    plt.title(title)\n",
    "    plt.xticks(ind, xticks)\n",
    "    plt.show()"
   ]
  },
  {
   "cell_type": "code",
   "execution_count": null,
   "metadata": {},
   "outputs": [],
   "source": [
    "# Cuantos hombres y mujeres habian entre pasajeros.\n",
    "male = df_cleaned.query(\"Sex_male == 1\")\n",
    "female = df_cleaned.query(\"Sex_female == 1\")\n",
    "print(\"Cantidad de hombres: \", male.shape[0])\n",
    "print(\"Cantidad de mujeres: \", female.shape[0])\n",
    "print(\"Cantidad total de pasajeros: \", df_original.shape[0])\n",
    "# Plot a bar\n",
    "plot_with_bar(values = [male.shape[0], female.shape[0]], \n",
    "              title = \"Cantidad de pasajeros en el barco por sexo\", \n",
    "              xticks = [\"Hombres\", \"Mujeres\"])"
   ]
  },
  {
   "cell_type": "code",
   "execution_count": null,
   "metadata": {},
   "outputs": [],
   "source": [
    "# Del numero total de mujeres, cuantas sobrevivieron y cuantas no.\n",
    "females_survived = df_cleaned.query(\"Survived == 1 and Sex_female == 1\")\n",
    "females_not_survived = df_cleaned.query(\"Survived == 0 and Sex_female == 1\")\n",
    "# Del numero total de hombres, cuantos sobrevivieron y cuantos no.\n",
    "males_survived = df_cleaned.query(\"Survived == 1 and Sex_male == 1\")\n",
    "males_not_survived = df_cleaned.query(\"Survived == 0 and Sex_male == 1\")\n",
    "# Print\n",
    "print(\"Mujeres\")\n",
    "print(\"Mujeres sobrevivieron: \", females_survived.shape[0])\n",
    "print(\"Mujeres no sobrevivieron: \", females_not_survived.shape[0])\n",
    "plot_with_bar(values = [females_survived.shape[0], females_not_survived.shape[0]], \n",
    "              title = \"Supervivencia de mujeres\", \n",
    "              xticks = [\"Sobrevivieron\", \"No sobrevivieron\"])\n",
    "print(\"\\nHombres\")\n",
    "print(\"Hombres sobrevivieron: \", males_survived.shape[0])\n",
    "print(\"Hombres no sobrevivieron: \", males_not_survived.shape[0])\n",
    "plot_with_bar(values = [males_survived.shape[0], males_not_survived.shape[0]], \n",
    "              title = \"Supervivencia de hombres\", \n",
    "              xticks = [\"Sobrevivieron\", \"No sobrevivieron\"])"
   ]
  },
  {
   "cell_type": "markdown",
   "metadata": {},
   "source": [
    "<h4>Respuesta</h4>\n",
    "<ol>\n",
    "    <li>Determinar la cantidad de pasajeros nos permitio concluir que hubo una mayor cantidad de hombres con respecto a mujeres en el barco.</li>\n",
    "    <li>Seguidamente obtuvimos una cantidad de 233 de 314 mujeres que sobrevivieron. Por tanto, si eras mujer tenias un 74% de probabilidad de sobrevivir.</li>\n",
    "    <li>Despues obtuvimos una cantidad de 109 de 577 hombres que sobrevivieron. Por tanto, si eras hombre tenias un 18% de probabilidad de sobrevivir.</li>\n",
    "    <li>Ademas, podemos agregar estos datos y determinar que 341 de 891 pasajeros sobrevivieron al accidente. Esto representa 38% del total de personas en el barco, menos de la mitad.</li>\n",
    "</ol> "
   ]
  },
  {
   "cell_type": "markdown",
   "metadata": {},
   "source": [
    "<h4>Cual es el rango de edad que tuvo mayor opcion de sobrevivir?</h4>"
   ]
  },
  {
   "cell_type": "code",
   "execution_count": null,
   "metadata": {},
   "outputs": [],
   "source": [
    "# Primero veamos el rango de edades.\n",
    "df_cleaned[\"Age\"].describe()"
   ]
  },
  {
   "cell_type": "code",
   "execution_count": null,
   "metadata": {},
   "outputs": [],
   "source": [
    "# Podemos observar que la edad minima es 0.42 y la edad maxima es 80. \n",
    "# Crearemos tres categorias para segmentar los pasajeros.\n",
    "children = df_cleaned.query(\"Age < 18\")\n",
    "adults = df_cleaned.query(\"Age >= 18 and Age <= 55\")\n",
    "elder = df_cleaned.query(\"Age > 55 and Age <= 80\")\n",
    "# Grafiquemos los datos.\n",
    "plot_with_bar(values = [children.shape[0], adults.shape[0], elder.shape[0]],\n",
    "              title = \"Edades por categorias\",\n",
    "              xticks = [\"Niños\", \"Adultos\", \"3ra edad\"])"
   ]
  },
  {
   "cell_type": "code",
   "execution_count": null,
   "metadata": {},
   "outputs": [],
   "source": [
    "# Ahora veamos la cantidad de ninos, adultos y 3ra edad que sobrevivieron.\n",
    "children_survived = children.query(\"Survived == 1\")\n",
    "children_not_survived = children.query(\"Survived == 0\")\n",
    "adults_survived = adults.query(\"Survived == 1\")\n",
    "adults_not_survived = adults.query(\"Survived == 0\")\n",
    "elder_survived = elder.query(\"Survived == 1\")\n",
    "elder_not_survived = elder.query(\"Survived == 0\")\n",
    "per_ch_surv = (children_survived.shape[0] / (children_survived.shape[0] + children_not_survived.shape[0]))*100\n",
    "per_ad_surv = (adults_survived.shape[0] / (adults_survived.shape[0] + adults_not_survived.shape[0]))*100\n",
    "per_el_surv = (elder_survived.shape[0] / (elder_survived.shape[0] + elder_not_survived.shape[0]))*100\n",
    "# Grafiquemos los datos\n",
    "plot_with_bar(values = [children_survived.shape[0], children_not_survived.shape[0]],\n",
    "              title = \"Supervivencia de niños\",\n",
    "              xticks = [\"Sobrevivieron\", \"No sobrevivieron\"])\n",
    "plot_with_bar(values = [adults_survived.shape[0], adults_not_survived.shape[0]],\n",
    "              title = \"Supervivencia de adultos\",\n",
    "              xticks = [\"Sobrevivieron\", \"No sobrevivieron\"])\n",
    "plot_with_bar(values = [elder_survived.shape[0], elder_not_survived.shape[0]],\n",
    "              title = \"Supervivencia de 3ra edad\",\n",
    "              xticks = [\"Sobrevivieron\", \"No sobrevivieron\"])\n",
    "print(\"Supervivencia niños: \", str(per_ch_surv)[:6])\n",
    "print(\"Supervivencia adultos: \", str(per_ad_surv)[:6])\n",
    "print(\"Supervivencia 3ra edad: \", per_el_surv)"
   ]
  },
  {
   "cell_type": "markdown",
   "metadata": {},
   "source": [
    "<h4>Respuesta</h4>\n",
    "<ol>\n",
    "    <li>Los niños tenian un 53% porcentaje de supervivencia.</li>\n",
    "    <li>Los adultos tenian un 36% porcentaje de supervivencia.</li>\n",
    "    <li>Los 3ra eda tenian un 30% porcentaje de supervivencia.</li>\n",
    "    <li>En conclusion, los niños tenian una mayor ventaja en supervivencia.</li>\n",
    "</ol> "
   ]
  },
  {
   "cell_type": "markdown",
   "metadata": {},
   "source": [
    "<h4>Que clase social tenia una mayor posibilidad de supervivencia?</h4>"
   ]
  },
  {
   "cell_type": "code",
   "execution_count": null,
   "metadata": {},
   "outputs": [],
   "source": [
    "# Veamos lost tipos de clases sociales.\n",
    "print(\"Tres tipos de clases: \", df_cleaned[\"Pclass\"].unique())"
   ]
  },
  {
   "cell_type": "code",
   "execution_count": null,
   "metadata": {},
   "outputs": [],
   "source": [
    "# Veamos la distribucion de clases en el barco.\n",
    "first_class = df_cleaned.query(\"Pclass == 1\")\n",
    "second_class = df_cleaned.query(\"Pclass == 2\")\n",
    "third_class = df_cleaned.query(\"Pclass == 3\")\n",
    "# Plots.\n",
    "plot_with_bar(values = [first_class.shape[0], second_class.shape[0], third_class.shape[0]],\n",
    "              title = \"Distribucion clases sociales en los pasajeros\",\n",
    "              xticks = [\"1ra\", \"2da\", \"3ra\"])"
   ]
  },
  {
   "cell_type": "code",
   "execution_count": null,
   "metadata": {},
   "outputs": [],
   "source": [
    "# Ahora veamos el porcentaje de supervivencia de cada clase.\n",
    "first_class_survived = first_class.query(\"Survived == 1\")\n",
    "first_class_not_survived = first_class.query(\"Survived == 0\")\n",
    "second_class_survived = second_class.query(\"Survived == 1\")\n",
    "second_class_not_survived = second_class.query(\"Survived == 0\")\n",
    "third_class_survived = third_class.query(\"Survived == 1\")\n",
    "third_class_not_survived = third_class.query(\"Survived == 0\")\n",
    "print(\"Supervivencia 1ra clase: \", (first_class_survived.shape[0] / (first_class_survived.shape[0] + first_class_not_survived.shape[0])))\n",
    "print(\"Supervivencia 2da clase: \", (second_class_survived.shape[0] / (second_class_survived.shape[0] + second_class_not_survived.shape[0])))\n",
    "print(\"Supervivencia 3ra clase: \", (third_class_survived.shape[0] / (third_class_survived.shape[0] + third_class_not_survived.shape[0])))\n",
    "# Grafiquemos.\n",
    "survived = (first_class_survived.shape[0], second_class_survived.shape[0], third_class_survived.shape[0])\n",
    "not_survived = (first_class_not_survived.shape[0], second_class_not_survived.shape[0], third_class_not_survived.shape[0])\n",
    "ind = np.arange(3)    # the x locations for the groups\n",
    "width = 0.35       # the width of the bars: can also be len(x) sequence\n",
    "p1 = plt.bar(ind, survived, width)\n",
    "p2 = plt.bar(ind, not_survived, width, bottom=survived)\n",
    "plt.ylabel(\"Cantidad\")\n",
    "plt.title(\"Supervivencia por clase social\")\n",
    "plt.xticks(ind, (\"1ra clase\", \"2da clase\", \"3ra clase\"))\n",
    "# plt.yticks(np.arange(0, 81, 10))\n",
    "plt.legend((p1[0], p2[0]), (\"Sobrevivieron\", \"No sobrevivieron\"))\n",
    "plt.show()"
   ]
  },
  {
   "cell_type": "markdown",
   "metadata": {},
   "source": [
    "<h4>Respuesta</h4>\n",
    "<ol>\n",
    "    <li>La tercera clase doblaba a la 2da y 1ra clase en cantidad de pasajeros.</li>\n",
    "    <li>Si eras de 1ra clase tenias un 62% de supervivencia.</li>\n",
    "    <li>Si eras de 2da clase tenias un 47% de supervivencia.</li>\n",
    "    <li>Si eras de 3ra clase tenias un 24% de supervivencia.</li>   \n",
    "</ol>"
   ]
  },
  {
   "cell_type": "markdown",
   "metadata": {},
   "source": [
    "<h3>D. Conclusiones</h3>\n",
    "<p>En esta sección:</p>\n",
    "<ol>\n",
    "    <li>Presentaremos las conclusiones de nuestro estudio</li>\n",
    "</ol>"
   ]
  },
  {
   "cell_type": "markdown",
   "metadata": {},
   "source": [
    "<p>Las conclusiones son las respuestas a las preguntas previas.</p>\n",
    "<h5>Puedes agregar mas conclusiones?</h5>"
   ]
  },
  {
   "cell_type": "markdown",
   "metadata": {},
   "source": [
    "<ol>\n",
    "    <li>Agrega aqui tus conclusiones.</li>\n",
    "</ol>"
   ]
  },
  {
   "cell_type": "markdown",
   "metadata": {},
   "source": [
    "<h2>2. Clasificación con Machine Learning</h2>"
   ]
  },
  {
   "cell_type": "markdown",
   "metadata": {},
   "source": [
    "<h3>A. Pre-procesamiento de variables</h3>"
   ]
  },
  {
   "cell_type": "code",
   "execution_count": null,
   "metadata": {},
   "outputs": [],
   "source": [
    "# Dividimos la matriz en X y Y.\n",
    "Y = df_cleaned[\"Survived\"]\n",
    "X = df_cleaned.drop(\"Survived\", axis = 1)\n",
    "print(X.shape, Y.shape)"
   ]
  },
  {
   "cell_type": "markdown",
   "metadata": {},
   "source": [
    "<h3>B. Train, validation y test sets</h3>\n",
    "<h3>EJERCICIO</h3>\n",
    "<p>Debes escoger el porcentaje de datos que ocupara el training set y lo mismo para el validation set. Recuerda los valores que vimos en clase.</p>\n",
    "<p><strong>Nota: </strong>En esta ocacion solo necesitamos un train set y un validation set. El test set lo provee Kaggle.</p>"
   ]
  },
  {
   "cell_type": "code",
   "execution_count": null,
   "metadata": {},
   "outputs": [],
   "source": [
    "# TRAIN SIZE Y VALIDATION SIZE deben sumar 1.0. \n",
    "# Por ejemplo: TRAIN_SIZE = 0.5 y VALIDATION_SIZE = 0.5\n",
    "TRAIN_SIZE = # ESCOJE EL VALOR DEL TRAINING SET\n",
    "VALIDATION_SIZE = # ESCOJE EL VALOR DEL VALIDATION SET\n",
    "assert TRAIN_SIZE+VALIDATION_SIZE==1.0, \"TRAIN SIZE y VALIDATION SIZE deben sumar 1.00\""
   ]
  },
  {
   "cell_type": "code",
   "execution_count": null,
   "metadata": {},
   "outputs": [],
   "source": [
    "# Training y validation set.\n",
    "x_train, x_validation, y_train, y_validation = train_test_split(X, Y, test_size=TEST_SIZE, random_state=42)\n",
    "print(\"Tamaños train set: \", x_train.shape, y_train.shape)\n",
    "print(\"Tamaños validation set: \", x_validation.shape, y_validation.shape)"
   ]
  },
  {
   "cell_type": "markdown",
   "metadata": {},
   "source": [
    "<h3>C. Modelos para clasificación</h3>\n",
    "<h3>Ejercicios</h3>\n",
    "<p>Tu trabajo es entrenar los modelos de aprendizaje automatico evitando el overfitting y underfitting. Para lo cual analizaras la precision de tu modelo utilizando el train y el validation set. <strong>Recuerda que ambas precisiones deben estar lo mas cerca posible entre ellas para obtener un buen resultado.</strong></p>"
   ]
  },
  {
   "cell_type": "markdown",
   "metadata": {},
   "source": [
    "<h3>Random forest</h3>\n",
    "<p>Utiliza la documentacion en el siguiente link para tunear los parametros de un random forest: <a href=\"http://scikit-learn.org/stable/modules/generated/sklearn.ensemble.RandomForestClassifier.html\">Random forest</a></p>"
   ]
  },
  {
   "cell_type": "code",
   "execution_count": null,
   "metadata": {},
   "outputs": [],
   "source": [
    "# Random forest\n",
    "from sklearn.ensemble import RandomForestClassifier\n",
    "randForClf = RandomForestClassifier(n_estimators = , # CAMBIA EL VALOR DE ESTE PARAMETRO\n",
    "                             max_features = , # CAMBIA EL VALOR DE ESTE PARAMETRO\n",
    "                             max_depth = , # CAMBIA EL VALOR DE ESTE PARAMETRO\n",
    "                             min_samples_leaf = , # CAMBIA EL VALOR DE ESTE PARAMETRO\n",
    "                             min_samples_split = ) # CAMBIA EL VALOR DE ESTE PARAMETRO\n",
    "randForClf.fit(x_train, y_train)"
   ]
  },
  {
   "cell_type": "markdown",
   "metadata": {},
   "source": [
    "<p>Utiliza la siguiente celda para debugear tu entrenamiento. Recuerda que el score del training y el validation deben estar lo mas cerca posible.</p>"
   ]
  },
  {
   "cell_type": "code",
   "execution_count": null,
   "metadata": {},
   "outputs": [],
   "source": [
    "print(\"Score en training set: \", randForClf.score(x_train, y_train))\n",
    "print(\"Score en validation set: \", randForClf.score(x_validation, y_validation))"
   ]
  },
  {
   "cell_type": "markdown",
   "metadata": {},
   "source": [
    "<h3>SVM</h3>\n",
    "<p>Utiliza la documentacion en el siguiente link para tunear los parametros de un SVM: <a href=\"http://scikit-learn.org/stable/modules/generated/sklearn.svm.SVC.html\">SVM</a></p>\n",
    "<br>\n",
    "<p>Puedes escoger entre los siguientes tipos de kernel: </p>\n",
    "<ol>\n",
    "    <li>\"linear\"</li>\n",
    "    <li>\"rbf\"</li>\n",
    "    <li>\"sigmoid\"</li>    \n",
    "</ol>"
   ]
  },
  {
   "cell_type": "code",
   "execution_count": null,
   "metadata": {},
   "outputs": [],
   "source": [
    "# SVM\n",
    "from sklearn.svm import SVC\n",
    "svcclf = SVC(kernel = \"sigmoid\") # ESCOJE EL TIPO DE KERNEL DE EN ESTE PARAMETRO\n",
    "svcclf.fit(x_train, y_train)"
   ]
  },
  {
   "cell_type": "code",
   "execution_count": null,
   "metadata": {},
   "outputs": [],
   "source": [
    "print(\"Score en training set: \", svcclf.score(x_train, y_train))\n",
    "print(\"Score en validation set: \", svcclf.score(x_validation, y_validation))"
   ]
  },
  {
   "cell_type": "markdown",
   "metadata": {},
   "source": [
    "<h3>Adaboost</h3>\n",
    "<p>Utiliza la documentacion en el siguiente link para tunear los parametros de un Adaboost: <a href=\"http://scikit-learn.org/stable/auto_examples/ensemble/plot_adaboost_hastie_10_2.html#sphx-glr-auto-examples-ensemble-plot-adaboost-hastie-10-2-py\">Adaboost</a></p>"
   ]
  },
  {
   "cell_type": "code",
   "execution_count": null,
   "metadata": {},
   "outputs": [],
   "source": [
    "# Adaboost\n",
    "from sklearn.tree import DecisionTreeClassifier\n",
    "from sklearn.metrics import zero_one_loss\n",
    "from sklearn.ensemble import AdaBoostClassifier\n",
    "# Clasifier\n",
    "treeclf = DecisionTreeClassifier(max_depth= , # ESCOJE EL MAX DEPTH\n",
    "                                 min_samples_leaf= ) # ESCOJE EL MIN SAMPLES LEAF\n",
    "treeclf.fit(x_train, y_train)\n",
    "adareal = AdaBoostClassifier(\n",
    "    base_estimator=treeclf,\n",
    "    learning_rate = , # ESCOJE UNA TASA DE APRENDIZAJE\n",
    "    n_estimators = , # ESCOJE UN NUMERO DE ESTIMADORES\n",
    "    algorithm=\"SAMME.R\")\n",
    "adareal.fit(x_train, y_train)"
   ]
  },
  {
   "cell_type": "code",
   "execution_count": null,
   "metadata": {},
   "outputs": [],
   "source": [
    "print(\"Score en training set: \", adareal.score(x_train, y_train))\n",
    "print(\"Score en validation set: \", adareal.score(x_validation, y_validation))"
   ]
  },
  {
   "cell_type": "markdown",
   "metadata": {},
   "source": [
    "<h3>F. Resultados</h3>\n",
    "<p>Cuando creas que tus resultados son correctos. Prueba con el test set provisto por Kaggle. Para esto corre el codigo de las siguientes celdas.</p>"
   ]
  },
  {
   "cell_type": "markdown",
   "metadata": {},
   "source": [
    "<h3>EJERCICIO</h3>\n",
    "<p>Escribe tu nombre y la version de tu archivo en las siguientes variables.</p>"
   ]
  },
  {
   "cell_type": "code",
   "execution_count": null,
   "metadata": {
    "collapsed": true
   },
   "outputs": [],
   "source": [
    "your_name = \"Rodrigo\" # ESCRIBE TU NOMBRE AQUI\n",
    "your_version = \"1\" # ESCRIBE LA VERSION DE TU ARHIVO"
   ]
  },
  {
   "cell_type": "code",
   "execution_count": null,
   "metadata": {
    "collapsed": true
   },
   "outputs": [],
   "source": [
    "# Leer datos de entrada.\n",
    "df_test_set = pd.read_csv(\"data/test.csv\")\n",
    "df_passenger_id = df_test_set[\"PassengerId\"]\n",
    "# Eliminar features que no usamos.\n",
    "df_test_set = df_test_set.drop([\"PassengerId\", \"Name\", \"Cabin\", \"Embarked\", \"Parch\", \"Ticket\"], axis = 1)\n",
    "# Limpiar datos.\n",
    "if (opcion == 1):\n",
    "    df_test_set[\"Age\"] = df_test_set[\"Age\"].fillna(df_test_set[\"Age\"].mean())\n",
    "    df_test_set[\"Fare\"] = df_test_set[\"Fare\"].fillna(df_test_set[\"Fare\"].mean())\n",
    "elif (opcion == 2):\n",
    "    df_test_set[\"Age\"] = df_test_set[\"Age\"].fillna(df_test_set[\"Age\"].median())\n",
    "    df_test_set[\"Fare\"] = df_test_set[\"Fare\"].fillna(df_test_set[\"Fare\"].median())\n",
    "elif (opcion == 3):\n",
    "    df_test_set = df_test_set.dropna(axis = 1)\n",
    "# Categorizar variables.\n",
    "df_test_set = pd.get_dummies(df_test_set)\n",
    "# Preprocesar datos.\n",
    "x_test = df_test_set"
   ]
  },
  {
   "cell_type": "markdown",
   "metadata": {},
   "source": [
    "<h3>ESCRIBE EL NOMBRE DEL MODELO QUE ESCOJES PARA EL TEST SET EN LA SIGUIENTE CELDA.</h3>\n",
    "<p>Opciones:</p>\n",
    "<ol>\n",
    "    <li>\"Random forests\"</li>\n",
    "    <li>\"SVM\"</li>\n",
    "    <li>\"Adaboost\"</li>\n",
    "</ol>"
   ]
  },
  {
   "cell_type": "code",
   "execution_count": null,
   "metadata": {
    "collapsed": true
   },
   "outputs": [],
   "source": [
    "# Escribe aqui el nombre de tu modelo.\n",
    "MODELO_ESCOGIDO = # ESCRIBE EL MODELO EN UN STRING\n",
    "# Procesar resultados del modelo\n",
    "if (MODELO_ESCOGIDO == \"Random forests\"):\n",
    "    resultados = randForClf.predict(x_test)\n",
    "elif (MODELO_ESCOGIDO == \"SVM\"):\n",
    "    resultados = svcclf.predict(x_test)\n",
    "elif (MODELO_ESCOGIDO == \"Adaboost\"):\n",
    "    resultados = adareal.predict(x_test)\n",
    "else:\n",
    "    print(\"El nombre no es valido\")\n",
    "# Escribir archivo de salida.\n",
    "file = open(\"data/enviar_archivo_\" + your_name + \"_\" + your_version + \"_kaggle.csv\", \"w\")\n",
    "file.write(\"PassengerId,Survived\\n\")\n",
    "for i, j in zip(df_passenger_id, resultados):\n",
    "    file.write(str(i) + \",\" + str(j) +\"\\n\")\n",
    "file.close()"
   ]
  },
  {
   "cell_type": "markdown",
   "metadata": {},
   "source": [
    "<p>El archivo con tus resultados se encuentra en la carpeta data y se llama: <strong>enviar_archivo_YOURNAME_YOURVERSION_kaggle.csv</strong></p>\n",
    "<p>La siguiente imagen te guiara donde debes enviar tu archivo en kaggle.</p>\n",
    "![](kaggle_submission.png?raw=true)"
   ]
  },
  {
   "cell_type": "code",
   "execution_count": null,
   "metadata": {
    "collapsed": true
   },
   "outputs": [],
   "source": []
  }
 ],
 "metadata": {
  "kernelspec": {
   "display_name": "Python 3",
   "language": "python",
   "name": "python3"
  },
  "language_info": {
   "codemirror_mode": {
    "name": "ipython",
    "version": 3
   },
   "file_extension": ".py",
   "mimetype": "text/x-python",
   "name": "python",
   "nbconvert_exporter": "python",
   "pygments_lexer": "ipython3",
   "version": "3.5.3"
  }
 },
 "nbformat": 4,
 "nbformat_minor": 2
}
