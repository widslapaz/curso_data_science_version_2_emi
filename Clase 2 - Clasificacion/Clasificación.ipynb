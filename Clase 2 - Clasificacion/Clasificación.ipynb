{
 "cells": [
  {
   "cell_type": "code",
   "execution_count": 1,
   "metadata": {
    "collapsed": true
   },
   "outputs": [],
   "source": [
    "import numpy as np\n",
    "import matplotlib.pyplot as plt\n",
    "from matplotlib import style\n",
    "style.use(\"ggplot\")"
   ]
  },
  {
   "cell_type": "markdown",
   "metadata": {},
   "source": [
    "<h1>Clasificación</h1>\n",
    "<p>Clasificación es otro tipo de problema dentro de Machine Learning. La diferencia es que la variable de salida de tu dataset es discreta y denota un conjunto de clases. El algoritmo de aprendizaje debe producir una función:</p>\n",
    "<h3>Clasificación</h3>\n",
    "$$ f: \\mathbb{R}^{(n)} => {1, ..., k} $$\n",
    "<p>En comparación a regresión:</p>\n",
    "<h3>Regresión</h3>\n",
    "$$ f: \\mathbb{R}^{(n)} => \\mathbb{R} $$\n",
    "<br>\n",
    "<p>Ahora veamos las diferencias con respecto al algoritmo de aprendizaje.</p>\n",
    "<br>\n",
    "<h3>Hipótesis</h3>\n",
    "<p>La primera diferencia es la hipótesis. Esta denota una función de activación que produce no linearidad en la salida de la multiplicación entre los pesos y los parámetros del problema. Además, nos permite convertir un número en una probabilidad.</p>\n",
    "\n",
    "$$ f(x;\\theta) = g(x\\theta) $$\n",
    "\n",
    "<p>Dónde g(x) es una función de activación. Veamos ejemplos de funciones de activación.</p>\n",
    "\n",
    "<h3>Sigmoid</h3>\n",
    "$$ g(x) = \\frac{1}{1 + e^{-x}} $$"
   ]
  },
  {
   "cell_type": "code",
   "execution_count": 2,
   "metadata": {
    "collapsed": true
   },
   "outputs": [],
   "source": [
    "def sigmoid(x = None, deriv = None):\n",
    "    sig = 1 / (1 + np.exp(-x)**2)\n",
    "    if (deriv):\n",
    "        return sig * (1 - sig)  \n",
    "    else:\n",
    "        return sig"
   ]
  },
  {
   "cell_type": "code",
   "execution_count": 3,
   "metadata": {},
   "outputs": [
    {
     "data": {
      "image/png": "[encoded data removed]",
      "text/plain": [
       "<matplotlib.figure.Figure at 0x281f8072f98>"
      ]
     },
     "metadata": {},
     "output_type": "display_data"
    }
   ],
   "source": [
    "# Define data\n",
    "x_sigmoid = np.arange(-3,3,0.1)\n",
    "y_sigmoid = [sigmoid(i) for i in x_sigmoid]\n",
    "y_sigmoid_deriv = [sigmoid(i, deriv = True) for i in x_sigmoid]\n",
    "# Plots\n",
    "plt.subplot(2, 1, 1)\n",
    "plt.scatter(x_sigmoid, y_sigmoid, c = \"b\")\n",
    "plt.title(\"Sigmoid\")\n",
    "plt.xlabel(\"x\")\n",
    "plt.ylabel(\"y\")\n",
    "plt.subplot(2, 1, 2)\n",
    "plt.scatter(x_sigmoid, y_sigmoid_deriv, c = \"b\")\n",
    "plt.title(\"Sigmoid\")\n",
    "plt.xlabel(\"x\")\n",
    "plt.ylabel(\"y\")\n",
    "plt.show()"
   ]
  },
  {
   "cell_type": "markdown",
   "metadata": {},
   "source": [
    "<h3>Hyperbolic tangent</h3>\n",
    "$$ th(x) = \\frac{e^{x} - e^{-x}}{e^{x} + e^{-x}} $$"
   ]
  },
  {
   "cell_type": "code",
   "execution_count": 4,
   "metadata": {
    "collapsed": true
   },
   "outputs": [],
   "source": [
    "def tanh(x = None, deriv = None):\n",
    "    tan = (np.exp(x) - np.exp(-x))/(np.exp(x) + np.exp(-x))\n",
    "    if (deriv):\n",
    "        return (1 - (tan)**2)\n",
    "    else:\n",
    "        return tan"
   ]
  },
  {
   "cell_type": "code",
   "execution_count": 5,
   "metadata": {},
   "outputs": [
    {
     "data": {
      "image/png": "[encoded data removed]",
      "text/plain": [
       "<matplotlib.figure.Figure at 0x281fa189908>"
      ]
     },
     "metadata": {},
     "output_type": "display_data"
    }
   ],
   "source": [
    "# Define data\n",
    "x_tanh = np.arange(-3,3,0.1)\n",
    "y_tanh = [tanh(i, deriv = False) for i in x_tanh]\n",
    "y_tanh_deriv = [tanh(i, deriv = True) for i in x_tanh]\n",
    "# Plots\n",
    "plt.subplot(2, 1, 1)\n",
    "plt.scatter(x_tanh, y_tanh, c = \"b\")\n",
    "plt.title(\"Tanh\")\n",
    "plt.xlabel(\"x\")\n",
    "plt.ylabel(\"y\")\n",
    "plt.subplot(2, 1, 2)\n",
    "plt.scatter(x_tanh, y_tanh_deriv, c = \"b\")\n",
    "plt.title(\"Tanh derivate\")\n",
    "plt.xlabel(\"x\")\n",
    "plt.ylabel(\"y\")\n",
    "plt.show()"
   ]
  },
  {
   "cell_type": "markdown",
   "metadata": {},
   "source": [
    "<p>La hipótesis entonces se transforma en:</p>\n",
    "$$ f(x;\\theta) = g(X\\theta) $$"
   ]
  },
  {
   "cell_type": "markdown",
   "metadata": {},
   "source": [
    "<h2>Función costo</h2>\n",
    "<p>La función costo también debe ser adecuada para que el modelo matemático pueda aprender.</p>\n",
    "$$ J(\\theta) = \\frac{-1}{m} * \\sum_{i}^{m} y^{(i)}\\log{(f(x;\\theta))} + (1 - y^{(i)})\\log{(1 - f(x;\\theta))} $$"
   ]
  },
  {
   "cell_type": "code",
   "execution_count": 6,
   "metadata": {
    "collapsed": true
   },
   "outputs": [],
   "source": [
    "def cost_function(h_theta_x = None, x = None, y = None, deriv = None):\n",
    "    # Local variables.\n",
    "    m = x.shape[0]\n",
    "    # Return cost function.\n",
    "    j_theta = (-1/m) * np.sum(y*np.log(h_theta_x) + (1 - y)*np.log(1 - h_theta_x))\n",
    "    if (deriv):\n",
    "        return (1/m) * np.dot(x.T, (h_theta_x - y))\n",
    "    else:\n",
    "        return j_theta"
   ]
  },
  {
   "cell_type": "markdown",
   "metadata": {},
   "source": [
    "<h2>Batch gradient descent</h2>\n",
    "Repeat {\n",
    "$$ \\theta = \\theta - \\alpha \\frac{\\partial{J(\\theta)}}{\\partial{\\theta}} $$\n",
    "}"
   ]
  },
  {
   "cell_type": "code",
   "execution_count": 7,
   "metadata": {
    "collapsed": true
   },
   "outputs": [],
   "source": [
    "def bgd(x = None, y = None, theta = None, learning_rate = None, epochs = None):\n",
    "    cost_hist = []\n",
    "    for i in range(epochs):\n",
    "        # Produce hypothesis.\n",
    "        h_theta_x = sigmoid(np.dot(x, theta))\n",
    "        # Update theta.\n",
    "        theta = theta - learning_rate * cost_function(h_theta_x = h_theta_x, x = x, y = y, deriv = True)\n",
    "        # Save cost function's progress.\n",
    "        cost_hist.append(cost_function(h_theta_x = h_theta_x, x = x, y = y, deriv = False))\n",
    "    return theta, cost_hist"
   ]
  },
  {
   "cell_type": "markdown",
   "metadata": {},
   "source": [
    "<h2>Data</h2>"
   ]
  },
  {
   "cell_type": "code",
   "execution_count": 8,
   "metadata": {
    "collapsed": true
   },
   "outputs": [],
   "source": [
    "x = np.array([[0,0],[0,1],[1,0],[1,1]])\n",
    "y = np.array([[0,1,1,1]]).T"
   ]
  },
  {
   "cell_type": "code",
   "execution_count": 9,
   "metadata": {},
   "outputs": [
    {
     "data": {
      "image/png": "[encoded data removed]",
      "text/plain": [
       "<matplotlib.figure.Figure at 0x281fa1d9b38>"
      ]
     },
     "metadata": {},
     "output_type": "display_data"
    }
   ],
   "source": [
    "plt.scatter(x[1:,0], x[1:,1], c = \"r\")\n",
    "plt.scatter(x[0,:], x[0,:], c = \"b\")\n",
    "plt.xlabel(\"x1\")\n",
    "plt.ylabel(\"x2\")\n",
    "plt.title(\"or\")\n",
    "plt.show()"
   ]
  },
  {
   "cell_type": "markdown",
   "metadata": {},
   "source": [
    "Let's create the model that will learn how to fit this distribution."
   ]
  },
  {
   "cell_type": "code",
   "execution_count": 10,
   "metadata": {
    "collapsed": true
   },
   "outputs": [],
   "source": [
    "theta = np.array(np.random.rand(2)).reshape(-1, 1)"
   ]
  },
  {
   "cell_type": "code",
   "execution_count": 12,
   "metadata": {},
   "outputs": [
    {
     "name": "stdout",
     "output_type": "stream",
     "text": [
      "[[ 0.72978611]\n",
      " [ 0.68871377]]\n",
      "200\n"
     ]
    }
   ],
   "source": [
    "theta_trained, cost_hist = bgd(x = x, y = y, theta = theta, learning_rate = 0.01, epochs = 200)\n",
    "print(theta_trained)\n",
    "print(len(cost_hist))"
   ]
  },
  {
   "cell_type": "code",
   "execution_count": 13,
   "metadata": {},
   "outputs": [
    {
     "data": {
      "image/png": "[encoded data removed]",
      "text/plain": [
       "<matplotlib.figure.Figure at 0x281fa2187f0>"
      ]
     },
     "metadata": {},
     "output_type": "display_data"
    }
   ],
   "source": [
    "plt.scatter([i for i in range(len(cost_hist))], cost_hist)\n",
    "plt.title(\"Cost function vs epochs\")\n",
    "plt.xlabel(\"x\")\n",
    "plt.ylabel(\"y\")\n",
    "plt.show()"
   ]
  },
  {
   "cell_type": "code",
   "execution_count": 14,
   "metadata": {},
   "outputs": [
    {
     "name": "stdout",
     "output_type": "stream",
     "text": [
      "[[ 0.5       ]\n",
      " [ 0.79857753]\n",
      " [ 0.81146724]\n",
      " [ 0.94464278]]\n"
     ]
    }
   ],
   "source": [
    "# Predictions\n",
    "h_theta_x = sigmoid(np.dot(x, theta_trained))\n",
    "print(h_theta_x)"
   ]
  },
  {
   "cell_type": "code",
   "execution_count": 15,
   "metadata": {},
   "outputs": [
    {
     "data": {
      "image/png": "[encoded data removed]",
      "text/plain": [
       "<matplotlib.figure.Figure at 0x281fa29c0b8>"
      ]
     },
     "metadata": {},
     "output_type": "display_data"
    }
   ],
   "source": [
    "plt.scatter(x[1:,0], x[1:,1], c = \"r\")\n",
    "plt.scatter(x[0,:], x[0,:], c = \"b\")\n",
    "plt.xlabel(\"x1\")\n",
    "plt.ylabel(\"x2\")\n",
    "plt.title(\"or\")\n",
    "plt.show()"
   ]
  },
  {
   "cell_type": "code",
   "execution_count": null,
   "metadata": {
    "collapsed": true
   },
   "outputs": [],
   "source": []
  }
 ],
 "metadata": {
  "kernelspec": {
   "display_name": "Python 3",
   "language": "python",
   "name": "python3"
  },
  "language_info": {
   "codemirror_mode": {
    "name": "ipython",
    "version": 3
   },
   "file_extension": ".py",
   "mimetype": "text/x-python",
   "name": "python",
   "nbconvert_exporter": "python",
   "pygments_lexer": "ipython3",
   "version": "3.5.3"
  }
 },
 "nbformat": 4,
 "nbformat_minor": 2
}
